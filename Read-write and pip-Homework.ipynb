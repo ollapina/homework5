{
 "cells": [
  {
   "cell_type": "markdown",
   "metadata": {},
   "source": [
    "# Домашнее задание\n",
    "1. Переведите содержимое файла purchase_log.txt в словарь purchases вида:\n",
    "```python\n",
    "{'1840e0b9d4': 'Продукты', ...}\n",
    "```\n",
    "\n",
    "2. Для каждого user_id в файле visit_log.csv добавьте третий столбец с категорией покупки (если покупка была).\n",
    "\n",
    "3. Запишите в файл funnel.csv визиты из файла visit_log.csv, в которых были покупки с указанием категории.\n",
    "\n",
    "Учтите условия на данные:\n",
    "- содержимое purchase_log.txt помещается в оперативную память компьютера\n",
    "- содержимое visit_log.csv - нет; используйте только построчную обработку этого файла"
   ]
  },
  {
   "cell_type": "code",
   "execution_count": 3,
   "metadata": {},
   "outputs": [],
   "source": [
    "with open('purchase_log.txt', 'r', encoding='UTF-8') as f:\n",
    "    import json\n",
    "    next(f)\n",
    "    content = f.readlines()\n",
    "    purchases = {}\n",
    "    for line in content:\n",
    "        line = line.strip()\n",
    "        dict_ = json.loads(line)\n",
    "        purchases.update({dict_['user_id']:dict_['category']})"
   ]
  },
  {
   "cell_type": "code",
   "execution_count": 4,
   "metadata": {},
   "outputs": [],
   "source": [
    "with open('visit_log.csv', 'r') as g:\n",
    "    for list in g:\n",
    "        list = g.readline().strip().split(',')\n",
    "        for key in purchases:\n",
    "            if list[0] == key:\n",
    "                list.append(purchases[key])\n",
    "                with open('funnel.csv', 'a', encoding='UTF-8') as h:\n",
    "                    h.write(','.join([str(i) for i in list]))\n",
    "                    h.write('\\n')"
   ]
  }
 ],
 "metadata": {
  "kernelspec": {
   "display_name": "Python 3",
   "language": "python",
   "name": "python3"
  },
  "language_info": {
   "codemirror_mode": {
    "name": "ipython",
    "version": 3
   },
   "file_extension": ".py",
   "mimetype": "text/x-python",
   "name": "python",
   "nbconvert_exporter": "python",
   "pygments_lexer": "ipython3",
   "version": "3.7.4"
  }
 },
 "nbformat": 4,
 "nbformat_minor": 2
}
